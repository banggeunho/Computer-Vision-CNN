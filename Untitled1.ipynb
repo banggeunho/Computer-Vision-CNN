{
 "cells": [
  {
   "cell_type": "code",
   "execution_count": 3,
   "id": "348c84e7",
   "metadata": {},
   "outputs": [],
   "source": [
    "import numpy as np"
   ]
  },
  {
   "cell_type": "code",
   "execution_count": 5,
   "id": "a019d3db",
   "metadata": {},
   "outputs": [],
   "source": [
    "arr = np.arange(10)"
   ]
  },
  {
   "cell_type": "code",
   "execution_count": 6,
   "id": "fd737ddb",
   "metadata": {},
   "outputs": [
    {
     "data": {
      "text/plain": [
       "array([0, 1, 2, 3, 4, 5, 6, 7, 8, 9])"
      ]
     },
     "execution_count": 6,
     "metadata": {},
     "output_type": "execute_result"
    }
   ],
   "source": [
    "arr"
   ]
  },
  {
   "cell_type": "code",
   "execution_count": 7,
   "id": "149afff7",
   "metadata": {},
   "outputs": [
    {
     "data": {
      "text/plain": [
       "5"
      ]
     },
     "execution_count": 7,
     "metadata": {},
     "output_type": "execute_result"
    }
   ],
   "source": [
    "arr[5]"
   ]
  },
  {
   "cell_type": "code",
   "execution_count": 8,
   "id": "5d0ea375",
   "metadata": {},
   "outputs": [
    {
     "data": {
      "text/plain": [
       "array([5, 6, 7])"
      ]
     },
     "execution_count": 8,
     "metadata": {},
     "output_type": "execute_result"
    }
   ],
   "source": [
    "arr[5:8]"
   ]
  },
  {
   "cell_type": "code",
   "execution_count": 9,
   "id": "72a14d0e",
   "metadata": {},
   "outputs": [],
   "source": [
    "data = np.random.randn(7,4)"
   ]
  },
  {
   "cell_type": "code",
   "execution_count": 11,
   "id": "c1dfa2fe",
   "metadata": {},
   "outputs": [
    {
     "data": {
      "text/plain": [
       "array([[ 2.0052073 ,  0.71676328,  1.2262191 , -0.83698729],\n",
       "       [ 0.07264731, -0.56356408, -1.14278856, -1.84963511],\n",
       "       [ 2.42271426, -0.61138435,  1.03403688, -0.24235159],\n",
       "       [ 0.45078012,  1.21171042, -2.10088807,  1.20544234],\n",
       "       [ 0.74089108,  1.18440991, -1.34985614,  0.985815  ],\n",
       "       [ 0.82420436, -0.39514767,  0.06278194, -0.88570451],\n",
       "       [-0.99276149,  0.9693854 , -0.2664019 ,  0.51097514]])"
      ]
     },
     "execution_count": 11,
     "metadata": {},
     "output_type": "execute_result"
    }
   ],
   "source": [
    "data"
   ]
  },
  {
   "cell_type": "code",
   "execution_count": 12,
   "id": "fe07ebd3",
   "metadata": {},
   "outputs": [],
   "source": [
    "data[data<0]=0"
   ]
  },
  {
   "cell_type": "code",
   "execution_count": 13,
   "id": "67fa571f",
   "metadata": {},
   "outputs": [
    {
     "data": {
      "text/plain": [
       "array([[2.0052073 , 0.71676328, 1.2262191 , 0.        ],\n",
       "       [0.07264731, 0.        , 0.        , 0.        ],\n",
       "       [2.42271426, 0.        , 1.03403688, 0.        ],\n",
       "       [0.45078012, 1.21171042, 0.        , 1.20544234],\n",
       "       [0.74089108, 1.18440991, 0.        , 0.985815  ],\n",
       "       [0.82420436, 0.        , 0.06278194, 0.        ],\n",
       "       [0.        , 0.9693854 , 0.        , 0.51097514]])"
      ]
     },
     "execution_count": 13,
     "metadata": {},
     "output_type": "execute_result"
    }
   ],
   "source": [
    "data"
   ]
  }
 ],
 "metadata": {
  "kernelspec": {
   "display_name": "Python 3 (ipykernel)",
   "language": "python",
   "name": "python3"
  },
  "language_info": {
   "codemirror_mode": {
    "name": "ipython",
    "version": 3
   },
   "file_extension": ".py",
   "mimetype": "text/x-python",
   "name": "python",
   "nbconvert_exporter": "python",
   "pygments_lexer": "ipython3",
   "version": "3.9.7"
  }
 },
 "nbformat": 4,
 "nbformat_minor": 5
}
